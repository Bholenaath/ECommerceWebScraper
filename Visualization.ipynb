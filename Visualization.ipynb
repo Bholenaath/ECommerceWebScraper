{
  "nbformat": 4,
  "nbformat_minor": 0,
  "metadata": {
    "kernelspec": {
      "display_name": "Python 3",
      "language": "python",
      "name": "python3"
    },
    "language_info": {
      "codemirror_mode": {
        "name": "ipython",
        "version": 3
      },
      "file_extension": ".py",
      "mimetype": "text/x-python",
      "name": "python",
      "nbconvert_exporter": "python",
      "pygments_lexer": "ipython3",
      "version": "3.7.6"
    },
    "colab": {
      "name": "Visualization.ipynb",
      "provenance": [],
      "include_colab_link": true
    }
  },
  "cells": [
    {
      "cell_type": "markdown",
      "metadata": {
        "id": "view-in-github",
        "colab_type": "text"
      },
      "source": [
        "<a href=\"https://colab.research.google.com/github/a-dhingra/ECommerceWebScraper/blob/master/Visualization.ipynb\" target=\"_parent\"><img src=\"https://colab.research.google.com/assets/colab-badge.svg\" alt=\"Open In Colab\"/></a>"
      ]
    },
    {
      "cell_type": "markdown",
      "metadata": {
        "id": "vmSp5PesXQma"
      },
      "source": [
        "When we draw a dice 6000 times, we expect to get each value around 1000 times. But when we draw two dices and sum the result, the distribution is going to be quite different. A histogram illustrates those distributions."
      ]
    },
    {
      "cell_type": "code",
      "metadata": {
        "id": "bZIFNQVeXQmg"
      },
      "source": [
        "import pandas as pd\n",
        "import numpy as np"
      ],
      "execution_count": 2,
      "outputs": []
    },
    {
      "cell_type": "code",
      "metadata": {
        "colab": {
          "base_uri": "https://localhost:8080/",
          "height": 235
        },
        "id": "kZRrqdeKXQmg",
        "outputId": "7be55e69-eb80-4a18-ac02-a8b8212287af"
      },
      "source": [
        "df = pd.DataFrame(\n",
        "                  np.random.randint(1, 7, 6000)\n",
        "                  , columns=['Dice1_value']\n",
        "                  # , index=False\n",
        "                  )\n",
        "df['Roll_count'] = df.index\n",
        "df['Roll_count'] += 1\n",
        "df.index.drop\n",
        "df = df.set_index('Roll_count')\n",
        "df.head()"
      ],
      "execution_count": 22,
      "outputs": [
        {
          "output_type": "execute_result",
          "data": {
            "text/html": [
              "<div>\n",
              "<style scoped>\n",
              "    .dataframe tbody tr th:only-of-type {\n",
              "        vertical-align: middle;\n",
              "    }\n",
              "\n",
              "    .dataframe tbody tr th {\n",
              "        vertical-align: top;\n",
              "    }\n",
              "\n",
              "    .dataframe thead th {\n",
              "        text-align: right;\n",
              "    }\n",
              "</style>\n",
              "<table border=\"1\" class=\"dataframe\">\n",
              "  <thead>\n",
              "    <tr style=\"text-align: right;\">\n",
              "      <th></th>\n",
              "      <th>Dice1_value</th>\n",
              "    </tr>\n",
              "    <tr>\n",
              "      <th>Roll_count</th>\n",
              "      <th></th>\n",
              "    </tr>\n",
              "  </thead>\n",
              "  <tbody>\n",
              "    <tr>\n",
              "      <th>1</th>\n",
              "      <td>6</td>\n",
              "    </tr>\n",
              "    <tr>\n",
              "      <th>2</th>\n",
              "      <td>6</td>\n",
              "    </tr>\n",
              "    <tr>\n",
              "      <th>3</th>\n",
              "      <td>5</td>\n",
              "    </tr>\n",
              "    <tr>\n",
              "      <th>4</th>\n",
              "      <td>3</td>\n",
              "    </tr>\n",
              "    <tr>\n",
              "      <th>5</th>\n",
              "      <td>1</td>\n",
              "    </tr>\n",
              "  </tbody>\n",
              "</table>\n",
              "</div>"
            ],
            "text/plain": [
              "            Dice1_value\n",
              "Roll_count             \n",
              "1                     6\n",
              "2                     6\n",
              "3                     5\n",
              "4                     3\n",
              "5                     1"
            ]
          },
          "metadata": {
            "tags": []
          },
          "execution_count": 22
        }
      ]
    },
    {
      "cell_type": "markdown",
      "metadata": {
        "id": "VfQp4WjsY0Bx"
      },
      "source": [
        "Starting with rolling of **One dice**, we will create a dataframe of values rolled in for one dice 6000 times"
      ]
    },
    {
      "cell_type": "code",
      "metadata": {
        "colab": {
          "base_uri": "https://localhost:8080/"
        },
        "id": "IN2kbLGVYcUy",
        "outputId": "f72ba5ce-1825-4c15-a3e3-c4c6844c0181"
      },
      "source": [
        "df.shape"
      ],
      "execution_count": 23,
      "outputs": [
        {
          "output_type": "execute_result",
          "data": {
            "text/plain": [
              "(6000, 1)"
            ]
          },
          "metadata": {
            "tags": []
          },
          "execution_count": 23
        }
      ]
    },
    {
      "cell_type": "code",
      "metadata": {
        "colab": {
          "base_uri": "https://localhost:8080/"
        },
        "id": "0d83bC8OYlMz",
        "outputId": "790efcf4-6d58-4884-bcc2-eaa544b67ff4"
      },
      "source": [
        "len(df)"
      ],
      "execution_count": 24,
      "outputs": [
        {
          "output_type": "execute_result",
          "data": {
            "text/plain": [
              "6000"
            ]
          },
          "metadata": {
            "tags": []
          },
          "execution_count": 24
        }
      ]
    },
    {
      "cell_type": "code",
      "metadata": {
        "colab": {
          "base_uri": "https://localhost:8080/"
        },
        "id": "V7QC83ELYnGL",
        "outputId": "50cf5bcf-258d-49c1-f279-1f1c671223b8"
      },
      "source": [
        "df.describe"
      ],
      "execution_count": 25,
      "outputs": [
        {
          "output_type": "execute_result",
          "data": {
            "text/plain": [
              "<bound method NDFrame.describe of             Dice1_value\n",
              "Roll_count             \n",
              "1                     6\n",
              "2                     6\n",
              "3                     5\n",
              "4                     3\n",
              "5                     1\n",
              "...                 ...\n",
              "5996                  3\n",
              "5997                  2\n",
              "5998                  3\n",
              "5999                  1\n",
              "6000                  4\n",
              "\n",
              "[6000 rows x 1 columns]>"
            ]
          },
          "metadata": {
            "tags": []
          },
          "execution_count": 25
        }
      ]
    },
    {
      "cell_type": "code",
      "metadata": {
        "id": "M-AUB6LRZNOb"
      },
      "source": [
        "# importing visualization bindings\r\n",
        "import seaborn as sn\r\n",
        "import matplotlib.pyplot as plt"
      ],
      "execution_count": 26,
      "outputs": []
    },
    {
      "cell_type": "code",
      "metadata": {
        "colab": {
          "base_uri": "https://localhost:8080/",
          "height": 312
        },
        "id": "P4PnraeBZz6U",
        "outputId": "7f52111e-0aae-475c-e014-9d6c5f158e50"
      },
      "source": [
        "plt.hist(df.Dice1_value, df.index, alpha=0.7, color='blue')\r\n",
        "plt.title('Number of times each value of dice was rolled')\r\n",
        "plt.grid(True)\r\n",
        "plt.xlabel('Value of Dice')\r\n",
        "plt.ylabel('Frequency of each value')\r\n",
        "plt.figure(figsize=(15,4))\r\n",
        "plt.show()"
      ],
      "execution_count": 40,
      "outputs": [
        {
          "output_type": "display_data",
          "data": {
            "image/png": "[encoded data removed]",
            "text/plain": [
              "<Figure size 432x288 with 1 Axes>"
            ]
          },
          "metadata": {
            "tags": [],
            "needs_background": "light"
          }
        },
        {
          "output_type": "display_data",
          "data": {
            "text/plain": [
              "<Figure size 1080x288 with 0 Axes>"
            ]
          },
          "metadata": {
            "tags": []
          }
        }
      ]
    },
    {
      "cell_type": "code",
      "metadata": {
        "colab": {
          "base_uri": "https://localhost:8080/",
          "height": 282
        },
        "id": "0aYW1Yg_XQmh",
        "outputId": "d8f3726c-77be-4c13-c757-4337ca0671e3"
      },
      "source": [
        "df['Dice2_value'] = np.random.randint(1, 7, 6000)\r\n",
        "df['Sum_of_Rolls'] = df['Dice1_value'] + df['Dice2_value']\r\n",
        "df.head()\r\n",
        "df.plot.hist(df.Sum_of_Rolls)\r\n",
        "# ax = df.plot.hist(bins=12, alpha=0.4)"
      ],
      "execution_count": 43,
      "outputs": [
        {
          "output_type": "execute_result",
          "data": {
            "text/plain": [
              "<matplotlib.axes._subplots.AxesSubplot at 0x7f7747bd8e48>"
            ]
          },
          "metadata": {
            "tags": []
          },
          "execution_count": 43
        },
        {
          "output_type": "display_data",
          "data": {
            "image/png": "[encoded data removed]",
            "text/plain": [
              "<Figure size 432x288 with 1 Axes>"
            ]
          },
          "metadata": {
            "tags": [],
            "needs_background": "light"
          }
        }
      ]
    },
    {
      "cell_type": "code",
      "metadata": {
        "id": "xwyTe_gogvRA"
      },
      "source": [
        ""
      ],
      "execution_count": null,
      "outputs": []
    }
  ]
}